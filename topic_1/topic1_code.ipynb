{
 "cells": [
  {
   "cell_type": "markdown",
   "id": "35cdcfb5",
   "metadata": {},
   "source": [
    "## Problem 1"
   ]
  },
  {
   "cell_type": "code",
   "execution_count": 1,
   "id": "4f35fbfa",
   "metadata": {},
   "outputs": [],
   "source": [
    "import numpy as np\n",
    "import pandas as pd\n",
    "from sklearn.utils import shuffle\n",
    "import pandas as pd\n",
    "\n",
    "# df1 = pd.read_csv('clickbait.txt', sep='\\n')\n",
    "\n",
    "# df2 = pd.read_csv('not-clickbait.txt', sep='\\n')\n",
    "\n",
    "\n",
    "\n",
    "with open('clickbait.txt', 'r', encoding='utf-8') as file:\n",
    "    \n",
    "    c=file.read()\n",
    "\n",
    "\n",
    "with open('not-clickbait.txt', 'r', encoding='utf-8') as file:\n",
    "    \n",
    "    nc=file.read()"
   ]
  },
  {
   "cell_type": "code",
   "execution_count": 2,
   "id": "fb07f107",
   "metadata": {},
   "outputs": [],
   "source": [
    "array_c=np.array(c.split('\\n')[0:-1])\n",
    "array_n_c=np.array(nc.split('\\n')[0:-1])\n",
    "p=np.full(len(array_c),1)\n",
    "n=np.full(len(array_n_c),0)\n",
    "sc=pd.Series(array_c)\n",
    "snc=pd.Series(array_n_c)"
   ]
  },
  {
   "cell_type": "code",
   "execution_count": 3,
   "id": "993fc7b8",
   "metadata": {},
   "outputs": [],
   "source": [
    "dfc=pd.DataFrame(columns=[\"sente\",\"targets\"])\n",
    "dfnc=pd.DataFrame(columns=[\"sente\",\"targets\"])\n",
    "dfc.sente=sc\n",
    "dfnc.sente=snc\n",
    "dfnc.targets=n\n",
    "dfc.targets=p"
   ]
  },
  {
   "cell_type": "code",
   "execution_count": 4,
   "id": "9617b2e2",
   "metadata": {},
   "outputs": [
    {
     "name": "stderr",
     "output_type": "stream",
     "text": [
      "C:\\Users\\raghu\\AppData\\Local\\Temp\\ipykernel_18752\\1968206897.py:1: FutureWarning: The frame.append method is deprecated and will be removed from pandas in a future version. Use pandas.concat instead.\n",
      "  dfm=dfc.append(dfnc)\n"
     ]
    }
   ],
   "source": [
    "dfm=dfc.append(dfnc)"
   ]
  },
  {
   "cell_type": "code",
   "execution_count": 5,
   "id": "c4324dd2",
   "metadata": {},
   "outputs": [
    {
     "data": {
      "text/plain": [
       "targets\n",
       "0    1574\n",
       "1     814\n",
       "dtype: int64"
      ]
     },
     "execution_count": 5,
     "metadata": {},
     "output_type": "execute_result"
    }
   ],
   "source": [
    "dfm.value_counts(dfm.targets)"
   ]
  },
  {
   "cell_type": "code",
   "execution_count": 6,
   "id": "f491719d",
   "metadata": {},
   "outputs": [
    {
     "name": "stdout",
     "output_type": "stream",
     "text": [
      "                                                  sente  targets\n",
      "0     US telecoms giants call on FCC to block cities...        0\n",
      "1     A guy walked into a restaurant kitchen and tur...        1\n",
      "2     Experts Believe That A Stone Is Being Mistaken...        1\n",
      "3     You won't believe what the new Baywatch has di...        1\n",
      "4               Is 29 February a capitalist conspiracy?        1\n",
      "...                                                 ...      ...\n",
      "2383  The three biggest mistakes Hillary Clinton is ...        1\n",
      "2384  Danny Green has an update on the Tim Duncan re...        1\n",
      "2385  Applebee's says it figured out its biggest mis...        1\n",
      "2386            U.S. running out of room to store crude        0\n",
      "2387  Woman said safety was reason she didn't pull o...        0\n",
      "\n",
      "[2388 rows x 2 columns]\n"
     ]
    }
   ],
   "source": [
    "\n",
    "shuffled_indices = np.random.permutation(dfm.index)\n",
    "shuffled_df = dfm.iloc[shuffled_indices]\n",
    "\n",
    "shuffled_df.reset_index(drop=True, inplace=True)\n",
    "\n",
    "print(shuffled_df)"
   ]
  },
  {
   "cell_type": "code",
   "execution_count": 7,
   "id": "aa0729d7",
   "metadata": {},
   "outputs": [],
   "source": [
    "from sklearn.model_selection import train_test_split\n",
    "train_ratio = 0.72\n",
    "validation_ratio = 0.08\n",
    "test_ratio = 0.2\n",
    "\n",
    "\n",
    "train_df, temp_df = train_test_split(shuffled_df, test_size=1 - train_ratio, random_state=42)\n",
    "validation_df, test_df = train_test_split(temp_df, test_size=test_ratio / (test_ratio + validation_ratio), random_state=42)"
   ]
  },
  {
   "cell_type": "code",
   "execution_count": 8,
   "id": "10773d1b",
   "metadata": {},
   "outputs": [
    {
     "name": "stdout",
     "output_type": "stream",
     "text": [
      "train target rate 0.3106457242582897\n",
      "validation target rate 0.387434554973822\n",
      "test target rate 0.3179916317991632\n"
     ]
    }
   ],
   "source": [
    "print(\"train target rate\",train_df.value_counts(train_df.targets)[0]/train_df.value_counts(train_df.targets).sum())\n",
    "print(\"validation target rate\",validation_df.value_counts(validation_df.targets)[0]/validation_df.value_counts(validation_df.targets).sum())\n",
    "print(\"test target rate\",test_df.value_counts(test_df.targets)[0]/test_df.value_counts(test_df.targets).sum())"
   ]
  },
  {
   "cell_type": "code",
   "execution_count": 9,
   "id": "15d94b4f",
   "metadata": {},
   "outputs": [
    {
     "data": {
      "text/html": [
       "<div>\n",
       "<style scoped>\n",
       "    .dataframe tbody tr th:only-of-type {\n",
       "        vertical-align: middle;\n",
       "    }\n",
       "\n",
       "    .dataframe tbody tr th {\n",
       "        vertical-align: top;\n",
       "    }\n",
       "\n",
       "    .dataframe thead th {\n",
       "        text-align: right;\n",
       "    }\n",
       "</style>\n",
       "<table border=\"1\" class=\"dataframe\">\n",
       "  <thead>\n",
       "    <tr style=\"text-align: right;\">\n",
       "      <th></th>\n",
       "      <th>sente</th>\n",
       "      <th>targets</th>\n",
       "    </tr>\n",
       "  </thead>\n",
       "  <tbody>\n",
       "    <tr>\n",
       "      <th>207</th>\n",
       "      <td>THIS Powerful Gesture Will Stop Your Kid From ...</td>\n",
       "      <td>1</td>\n",
       "    </tr>\n",
       "    <tr>\n",
       "      <th>2082</th>\n",
       "      <td>Did #TheBachelor Ben Higgins get an offer to c...</td>\n",
       "      <td>1</td>\n",
       "    </tr>\n",
       "    <tr>\n",
       "      <th>1146</th>\n",
       "      <td>The three biggest mistakes Hillary Clinton is ...</td>\n",
       "      <td>1</td>\n",
       "    </tr>\n",
       "    <tr>\n",
       "      <th>729</th>\n",
       "      <td>3 Things You Should Never Give To Charity</td>\n",
       "      <td>1</td>\n",
       "    </tr>\n",
       "    <tr>\n",
       "      <th>162</th>\n",
       "      <td>Here are the 10 countries where homosexuality ...</td>\n",
       "      <td>1</td>\n",
       "    </tr>\n",
       "  </tbody>\n",
       "</table>\n",
       "</div>"
      ],
      "text/plain": [
       "                                                  sente  targets\n",
       "207   THIS Powerful Gesture Will Stop Your Kid From ...        1\n",
       "2082  Did #TheBachelor Ben Higgins get an offer to c...        1\n",
       "1146  The three biggest mistakes Hillary Clinton is ...        1\n",
       "729           3 Things You Should Never Give To Charity        1\n",
       "162   Here are the 10 countries where homosexuality ...        1"
      ]
     },
     "execution_count": 9,
     "metadata": {},
     "output_type": "execute_result"
    }
   ],
   "source": [
    "train_df.head()"
   ]
  },
  {
   "cell_type": "markdown",
   "id": "81554ca5",
   "metadata": {},
   "source": [
    "## Problem 3"
   ]
  },
  {
   "cell_type": "code",
   "execution_count": 10,
   "id": "bf103f64",
   "metadata": {},
   "outputs": [],
   "source": [
    "from sklearn.pipeline import Pipeline\n",
    "from sklearn.feature_extraction.text import CountVectorizer\n",
    "from sklearn.naive_bayes import MultinomialNB\n",
    "pipeline = Pipeline([\n",
    "    ('vectorizer', CountVectorizer(ngram_range=(1, 2))),\n",
    "    ('classifier', MultinomialNB())\n",
    "])\n",
    "\n",
    "\n",
    "model=pipeline.fit(list(train_df.sente), list(train_df.targets))"
   ]
  },
  {
   "cell_type": "code",
   "execution_count": 11,
   "id": "3c395d9d",
   "metadata": {},
   "outputs": [],
   "source": [
    "val_ans=model.predict(list(validation_df.sente))\n",
    "test_ans=model.predict(list(test_df.sente))"
   ]
  },
  {
   "cell_type": "code",
   "execution_count": 12,
   "id": "617eb17f",
   "metadata": {},
   "outputs": [],
   "source": [
    "from sklearn.metrics import f1_score ,precision_score, recall_score\n",
    "f1_val=f1_score(np.array(list(validation_df.targets)), val_ans, average='binary')\n"
   ]
  },
  {
   "cell_type": "code",
   "execution_count": null,
   "id": "b7daf516",
   "metadata": {},
   "outputs": [],
   "source": []
  },
  {
   "cell_type": "code",
   "execution_count": 13,
   "id": "87c888f4",
   "metadata": {},
   "outputs": [],
   "source": [
    "precision_val = precision_score(np.array(list(validation_df.targets)), val_ans)\n",
    "\n",
    "recall_vall = recall_score(np.array(list(validation_df.targets)), val_ans)"
   ]
  },
  {
   "cell_type": "code",
   "execution_count": null,
   "id": "f972becb",
   "metadata": {},
   "outputs": [],
   "source": []
  },
  {
   "cell_type": "code",
   "execution_count": 14,
   "id": "64559e70",
   "metadata": {},
   "outputs": [],
   "source": [
    "precision_test = precision_score(np.array(list(test_df.targets)), test_ans)\n",
    "\n",
    "recall_test = recall_score(np.array(list(test_df.targets)), test_ans)\n",
    "f1_test=f1_score(np.array(list(test_df.targets)), test_ans, average='binary')"
   ]
  },
  {
   "cell_type": "code",
   "execution_count": 15,
   "id": "af77dda1",
   "metadata": {
    "scrolled": true
   },
   "outputs": [
    {
     "name": "stdout",
     "output_type": "stream",
     "text": [
      "validation precision 0.8863636363636364\n",
      "validation recall 1.0\n",
      "validation f1 0.9397590361445783\n"
     ]
    }
   ],
   "source": [
    "print(\"validation precision\",precision_val)\n",
    "print(\"validation recall\",recall_vall)\n",
    "print(\"validation f1\",f1_val)"
   ]
  },
  {
   "cell_type": "code",
   "execution_count": 16,
   "id": "121449d7",
   "metadata": {},
   "outputs": [
    {
     "name": "stdout",
     "output_type": "stream",
     "text": [
      "test precision 0.9002770083102493\n",
      "test recall 0.9969325153374233\n",
      "test f1 0.9461426491994177\n"
     ]
    }
   ],
   "source": [
    "print(\"test precision\",precision_test)\n",
    "print(\"test recall\",recall_test)\n",
    "print(\"test f1\",f1_test)"
   ]
  },
  {
   "cell_type": "markdown",
   "id": "158f3059",
   "metadata": {},
   "source": [
    "## Problem 4"
   ]
  },
  {
   "cell_type": "code",
   "execution_count": 17,
   "id": "54dd70ee",
   "metadata": {},
   "outputs": [],
   "source": [
    "from sklearn.model_selection import ParameterGrid\n",
    "p_grid = {\n",
    "    'max_df': [0.1,0.3,0.5, 0.7, 0.9],  \n",
    "    'alpha': [0.1,0.2,0.3,0.5,0.6,0.75, 0.9],  \n",
    "    'ngram': [ (1,3),(1,1),(1,2),(2,2),(3,3)]  \n",
    "}\n"
   ]
  },
  {
   "cell_type": "code",
   "execution_count": 18,
   "id": "f6151546",
   "metadata": {},
   "outputs": [],
   "source": [
    "grid = ParameterGrid(p_grid)"
   ]
  },
  {
   "cell_type": "code",
   "execution_count": 19,
   "id": "7f67179d",
   "metadata": {},
   "outputs": [
    {
     "data": {
      "text/plain": [
       "1719"
      ]
     },
     "execution_count": 19,
     "metadata": {},
     "output_type": "execute_result"
    }
   ],
   "source": [
    "len(list(train_df.sente))"
   ]
  },
  {
   "cell_type": "code",
   "execution_count": 20,
   "id": "2da41533",
   "metadata": {},
   "outputs": [],
   "source": [
    "from sklearn.metrics import accuracy_score\n",
    "bp=[]\n",
    "pr=[]\n",
    "rl=[]\n",
    "f1=[]\n",
    "ba=[]\n",
    "\n",
    "for i in grid:\n",
    "    pipeline = Pipeline([\n",
    "        ('vectorizer',CountVectorizer(max_df=i['max_df'],ngram_range=i['ngram'])),\n",
    "        ('classifier', MultinomialNB(alpha=i['alpha']))\n",
    "    ])\n",
    "    bp.append(i)   \n",
    "    model=pipeline.fit(list(train_df.sente), list(train_df.targets))\n",
    "    \n",
    "    val_ans=model.predict(list(validation_df.sente))\n",
    "    f1_val=accuracy_score(np.array(list(validation_df.targets)), val_ans)\n",
    "    ba.append(f1_val)\n",
    "    precision_val = precision_score(np.array(list(validation_df.targets)), val_ans)\n",
    "    \n",
    "    recall_vall = recall_score(np.array(list(validation_df.targets)), val_ans)\n",
    "    pr.append(precision_val)\n",
    "    rl.append(recall_vall)\n",
    "    \n",
    "    "
   ]
  },
  {
   "cell_type": "code",
   "execution_count": 21,
   "id": "0eb6aefb",
   "metadata": {},
   "outputs": [],
   "source": [
    "maxxx=np.array(ba).argmax(axis=0)\n",
    "maxx=5"
   ]
  },
  {
   "cell_type": "code",
   "execution_count": 22,
   "id": "f809e34d",
   "metadata": {},
   "outputs": [
    {
     "name": "stdout",
     "output_type": "stream",
     "text": [
      "the best paramenters {'alpha': 0.1, 'max_df': 0.1, 'ngram': (1, 3)}\n"
     ]
    }
   ],
   "source": [
    "print(\"the best paramenters\",bp[maxxx])"
   ]
  },
  {
   "cell_type": "code",
   "execution_count": 23,
   "id": "5cdf62cc",
   "metadata": {},
   "outputs": [
    {
     "name": "stdout",
     "output_type": "stream",
     "text": [
      "precision 0.9285714285714286 recall 1.0 accuracy 0.9528795811518325\n"
     ]
    }
   ],
   "source": [
    "print(\"precision\",pr[maxxx],\"recall\",rl[maxxx],\"accuracy\",ba[maxxx])"
   ]
  },
  {
   "cell_type": "markdown",
   "id": "b9d32c56",
   "metadata": {},
   "source": [
    "## Problem 5"
   ]
  },
  {
   "cell_type": "code",
   "execution_count": 24,
   "id": "b1c0cb45",
   "metadata": {},
   "outputs": [
    {
     "data": {
      "text/plain": [
       "{'alpha': 0.1, 'max_df': 0.3, 'ngram': (1, 3)}"
      ]
     },
     "execution_count": 24,
     "metadata": {},
     "output_type": "execute_result"
    }
   ],
   "source": [
    "bp[maxx]"
   ]
  },
  {
   "cell_type": "code",
   "execution_count": 25,
   "id": "de176770",
   "metadata": {},
   "outputs": [],
   "source": [
    "pipeline = Pipeline([\n",
    "        ('vectorizer',CountVectorizer(max_df=bp[maxx]['max_df'],ngram_range=bp[maxx]['ngram'])),\n",
    "        ('classifier', MultinomialNB(alpha=bp[maxx]['alpha']))\n",
    "    ])\n",
    "\n",
    "model=pipeline.fit(list(train_df.sente), list(train_df.targets))\n"
   ]
  },
  {
   "cell_type": "code",
   "execution_count": 26,
   "id": "1854e05d",
   "metadata": {},
   "outputs": [],
   "source": [
    "test_ans=model.predict(list(test_df.sente))\n",
    "precision_test = precision_score(np.array(list(test_df.targets)), test_ans)\n",
    "\n",
    "recall_test = recall_score(np.array(list(test_df.targets)), test_ans)\n",
    "f1_test=f1_score(np.array(list(test_df.targets)), test_ans, average='binary')"
   ]
  },
  {
   "cell_type": "code",
   "execution_count": 27,
   "id": "5f7c701c",
   "metadata": {},
   "outputs": [
    {
     "name": "stdout",
     "output_type": "stream",
     "text": [
      "precision 0.948170731707317 recall 0.9539877300613497 f1 score 0.9510703363914372\n"
     ]
    }
   ],
   "source": [
    "print(\"precision\",precision_test,\"recall\",recall_test,\"f1 score\",f1_test)"
   ]
  },
  {
   "cell_type": "markdown",
   "id": "3dc8a4d7",
   "metadata": {},
   "source": [
    "## Problem 6"
   ]
  },
  {
   "cell_type": "code",
   "execution_count": 28,
   "id": "7b03d7f4",
   "metadata": {},
   "outputs": [],
   "source": [
    "\n",
    "mlp=model['classifier'].feature_log_prob_[1]-model['classifier'].feature_log_prob_[0]"
   ]
  },
  {
   "cell_type": "code",
   "execution_count": 29,
   "id": "1fe79572",
   "metadata": {},
   "outputs": [
    {
     "data": {
      "text/plain": [
       "26862"
      ]
     },
     "execution_count": 29,
     "metadata": {},
     "output_type": "execute_result"
    }
   ],
   "source": [
    "len(mlp)"
   ]
  },
  {
   "cell_type": "code",
   "execution_count": 30,
   "id": "0bc1880a",
   "metadata": {},
   "outputs": [
    {
     "data": {
      "text/plain": [
       "array([-1.86473795,  1.61861153,  1.61861153, ...,  2.26523869,\n",
       "        2.26523869,  2.26523869])"
      ]
     },
     "execution_count": 30,
     "metadata": {},
     "output_type": "execute_result"
    }
   ],
   "source": [
    "mlp"
   ]
  },
  {
   "cell_type": "code",
   "execution_count": 31,
   "id": "f5b228f5",
   "metadata": {},
   "outputs": [],
   "source": [
    "mlw=model['vectorizer'].get_feature_names_out()"
   ]
  },
  {
   "cell_type": "code",
   "execution_count": 32,
   "id": "0afa8f51",
   "metadata": {},
   "outputs": [
    {
     "data": {
      "text/plain": [
       "array(['000', '000 000', '000 000 to', ..., 'zuckerberg',\n",
       "       'zuckerberg put', 'zuckerberg put tape'], dtype=object)"
      ]
     },
     "execution_count": 32,
     "metadata": {},
     "output_type": "execute_result"
    }
   ],
   "source": [
    "mlw"
   ]
  },
  {
   "cell_type": "code",
   "execution_count": 33,
   "id": "a601c77b",
   "metadata": {},
   "outputs": [
    {
     "data": {
      "text/plain": [
       "26862"
      ]
     },
     "execution_count": 33,
     "metadata": {},
     "output_type": "execute_result"
    }
   ],
   "source": [
    "len(mlw)"
   ]
  },
  {
   "cell_type": "code",
   "execution_count": 34,
   "id": "f593cbb4",
   "metadata": {},
   "outputs": [],
   "source": [
    "df_6=pd.DataFrame(columns=[\"log_probablities\",\"words\"])"
   ]
  },
  {
   "cell_type": "code",
   "execution_count": 35,
   "id": "84a2fa8f",
   "metadata": {},
   "outputs": [],
   "source": [
    "df_6.log_probablities=mlp\n",
    "df_6.words=mlw"
   ]
  },
  {
   "cell_type": "code",
   "execution_count": 36,
   "id": "fc9a537d",
   "metadata": {},
   "outputs": [
    {
     "data": {
      "text/html": [
       "<div>\n",
       "<style scoped>\n",
       "    .dataframe tbody tr th:only-of-type {\n",
       "        vertical-align: middle;\n",
       "    }\n",
       "\n",
       "    .dataframe tbody tr th {\n",
       "        vertical-align: top;\n",
       "    }\n",
       "\n",
       "    .dataframe thead th {\n",
       "        text-align: right;\n",
       "    }\n",
       "</style>\n",
       "<table border=\"1\" class=\"dataframe\">\n",
       "  <thead>\n",
       "    <tr style=\"text-align: right;\">\n",
       "      <th></th>\n",
       "      <th>log_probablities</th>\n",
       "      <th>words</th>\n",
       "    </tr>\n",
       "  </thead>\n",
       "  <tbody>\n",
       "    <tr>\n",
       "      <th>0</th>\n",
       "      <td>-1.864738</td>\n",
       "      <td>000</td>\n",
       "    </tr>\n",
       "    <tr>\n",
       "      <th>1</th>\n",
       "      <td>1.618612</td>\n",
       "      <td>000 000</td>\n",
       "    </tr>\n",
       "    <tr>\n",
       "      <th>2</th>\n",
       "      <td>1.618612</td>\n",
       "      <td>000 000 to</td>\n",
       "    </tr>\n",
       "    <tr>\n",
       "      <th>3</th>\n",
       "      <td>-3.177179</td>\n",
       "      <td>000 boston</td>\n",
       "    </tr>\n",
       "    <tr>\n",
       "      <th>4</th>\n",
       "      <td>-3.177179</td>\n",
       "      <td>000 boston public</td>\n",
       "    </tr>\n",
       "    <tr>\n",
       "      <th>...</th>\n",
       "      <td>...</td>\n",
       "      <td>...</td>\n",
       "    </tr>\n",
       "    <tr>\n",
       "      <th>26857</th>\n",
       "      <td>2.265239</td>\n",
       "      <td>zooey deschanel</td>\n",
       "    </tr>\n",
       "    <tr>\n",
       "      <th>26858</th>\n",
       "      <td>2.265239</td>\n",
       "      <td>zooey deschanel has</td>\n",
       "    </tr>\n",
       "    <tr>\n",
       "      <th>26859</th>\n",
       "      <td>2.265239</td>\n",
       "      <td>zuckerberg</td>\n",
       "    </tr>\n",
       "    <tr>\n",
       "      <th>26860</th>\n",
       "      <td>2.265239</td>\n",
       "      <td>zuckerberg put</td>\n",
       "    </tr>\n",
       "    <tr>\n",
       "      <th>26861</th>\n",
       "      <td>2.265239</td>\n",
       "      <td>zuckerberg put tape</td>\n",
       "    </tr>\n",
       "  </tbody>\n",
       "</table>\n",
       "<p>26862 rows × 2 columns</p>\n",
       "</div>"
      ],
      "text/plain": [
       "       log_probablities                words\n",
       "0             -1.864738                  000\n",
       "1              1.618612              000 000\n",
       "2              1.618612           000 000 to\n",
       "3             -3.177179           000 boston\n",
       "4             -3.177179    000 boston public\n",
       "...                 ...                  ...\n",
       "26857          2.265239      zooey deschanel\n",
       "26858          2.265239  zooey deschanel has\n",
       "26859          2.265239           zuckerberg\n",
       "26860          2.265239       zuckerberg put\n",
       "26861          2.265239  zuckerberg put tape\n",
       "\n",
       "[26862 rows x 2 columns]"
      ]
     },
     "execution_count": 36,
     "metadata": {},
     "output_type": "execute_result"
    }
   ],
   "source": [
    "df_6"
   ]
  },
  {
   "cell_type": "code",
   "execution_count": 37,
   "id": "bef29171",
   "metadata": {},
   "outputs": [],
   "source": [
    "df_6_n=df_6.sort_values('log_probablities',ascending=False)"
   ]
  },
  {
   "cell_type": "code",
   "execution_count": 38,
   "id": "a9c93b35",
   "metadata": {},
   "outputs": [
    {
     "data": {
      "text/html": [
       "<div>\n",
       "<style scoped>\n",
       "    .dataframe tbody tr th:only-of-type {\n",
       "        vertical-align: middle;\n",
       "    }\n",
       "\n",
       "    .dataframe tbody tr th {\n",
       "        vertical-align: top;\n",
       "    }\n",
       "\n",
       "    .dataframe thead th {\n",
       "        text-align: right;\n",
       "    }\n",
       "</style>\n",
       "<table border=\"1\" class=\"dataframe\">\n",
       "  <thead>\n",
       "    <tr style=\"text-align: right;\">\n",
       "      <th></th>\n",
       "      <th>log_probablities</th>\n",
       "      <th>words</th>\n",
       "    </tr>\n",
       "  </thead>\n",
       "  <tbody>\n",
       "    <tr>\n",
       "      <th>26710</th>\n",
       "      <td>5.815130</td>\n",
       "      <td>you won believe</td>\n",
       "    </tr>\n",
       "    <tr>\n",
       "      <th>26216</th>\n",
       "      <td>5.815130</td>\n",
       "      <td>won believe</td>\n",
       "    </tr>\n",
       "    <tr>\n",
       "      <th>26709</th>\n",
       "      <td>5.815130</td>\n",
       "      <td>you won</td>\n",
       "    </tr>\n",
       "    <tr>\n",
       "      <th>9747</th>\n",
       "      <td>5.602532</td>\n",
       "      <td>here</td>\n",
       "    </tr>\n",
       "    <tr>\n",
       "      <th>26616</th>\n",
       "      <td>5.532451</td>\n",
       "      <td>you ll</td>\n",
       "    </tr>\n",
       "    <tr>\n",
       "      <th>26618</th>\n",
       "      <td>5.514136</td>\n",
       "      <td>you ll never</td>\n",
       "    </tr>\n",
       "    <tr>\n",
       "      <th>12917</th>\n",
       "      <td>5.514136</td>\n",
       "      <td>ll never</td>\n",
       "    </tr>\n",
       "    <tr>\n",
       "      <th>2674</th>\n",
       "      <td>5.437322</td>\n",
       "      <td>believe what</td>\n",
       "    </tr>\n",
       "    <tr>\n",
       "      <th>8988</th>\n",
       "      <td>5.396584</td>\n",
       "      <td>guess</td>\n",
       "    </tr>\n",
       "    <tr>\n",
       "      <th>22642</th>\n",
       "      <td>5.286824</td>\n",
       "      <td>this is</td>\n",
       "    </tr>\n",
       "  </tbody>\n",
       "</table>\n",
       "</div>"
      ],
      "text/plain": [
       "       log_probablities            words\n",
       "26710          5.815130  you won believe\n",
       "26216          5.815130      won believe\n",
       "26709          5.815130          you won\n",
       "9747           5.602532             here\n",
       "26616          5.532451           you ll\n",
       "26618          5.514136     you ll never\n",
       "12917          5.514136         ll never\n",
       "2674           5.437322     believe what\n",
       "8988           5.396584            guess\n",
       "22642          5.286824          this is"
      ]
     },
     "execution_count": 38,
     "metadata": {},
     "output_type": "execute_result"
    }
   ],
   "source": [
    "df_6_n[:10]"
   ]
  },
  {
   "cell_type": "markdown",
   "id": "810ce806",
   "metadata": {},
   "source": [
    "## Problem 7"
   ]
  },
  {
   "cell_type": "code",
   "execution_count": 39,
   "id": "440047db",
   "metadata": {},
   "outputs": [],
   "source": [
    "w_5=list(df_6_n[:5].words)"
   ]
  },
  {
   "cell_type": "code",
   "execution_count": 40,
   "id": "c583ee1a",
   "metadata": {},
   "outputs": [
    {
     "data": {
      "text/plain": [
       "['you won believe', 'won believe', 'you won', 'here', 'you ll']"
      ]
     },
     "execution_count": 40,
     "metadata": {},
     "output_type": "execute_result"
    }
   ],
   "source": [
    "w_5"
   ]
  },
  {
   "cell_type": "code",
   "execution_count": 41,
   "id": "0af650f4",
   "metadata": {},
   "outputs": [],
   "source": [
    "import re"
   ]
  },
  {
   "cell_type": "code",
   "execution_count": 42,
   "id": "38181a41",
   "metadata": {},
   "outputs": [
    {
     "name": "stdout",
     "output_type": "stream",
     "text": [
      "<re.Match object; span=(3, 13), match='wood_chuck'>\n"
     ]
    }
   ],
   "source": [
    "ws=\"hi wood_chuck the wonder\"\n",
    "print(re.search(r\"\\bwood_chuck\\b\",ws,re.IGNORECASE))"
   ]
  },
  {
   "cell_type": "code",
   "execution_count": 43,
   "id": "794d4805",
   "metadata": {},
   "outputs": [],
   "source": [
    "test_df_reg=pd.DataFrame(columns=['sente','targets','pred'])"
   ]
  },
  {
   "cell_type": "code",
   "execution_count": 44,
   "id": "96fa396d",
   "metadata": {},
   "outputs": [],
   "source": [
    "test_df_reg.sente=test_df.sente.copy()\n",
    "test_df_reg.targets=test_df.targets.copy()"
   ]
  },
  {
   "cell_type": "code",
   "execution_count": 45,
   "id": "92b58f1a",
   "metadata": {},
   "outputs": [],
   "source": [
    "check_word=\"won believe\""
   ]
  },
  {
   "cell_type": "code",
   "execution_count": 46,
   "id": "7a76195a",
   "metadata": {},
   "outputs": [],
   "source": [
    "predd=[]\n",
    "for i in range(0,len(test_df_reg)):\n",
    "    s=test_df_reg[i:i+1]\n",
    "    str_chk=list(s.sente)[0]\n",
    "    test=re.search(r\"\\byou won\\b\",str_chk,re.IGNORECASE)\n",
    "    if(test==None):\n",
    "        predd.append(0)\n",
    "    else:\n",
    "        predd.append(1)\n",
    "        \n",
    "    "
   ]
  },
  {
   "cell_type": "code",
   "execution_count": 47,
   "id": "884ea402",
   "metadata": {},
   "outputs": [
    {
     "data": {
      "text/plain": [
       "1    326\n",
       "0    152\n",
       "Name: targets, dtype: int64"
      ]
     },
     "execution_count": 47,
     "metadata": {},
     "output_type": "execute_result"
    }
   ],
   "source": [
    "test_df_reg.targets.value_counts()"
   ]
  },
  {
   "cell_type": "code",
   "execution_count": 48,
   "id": "08e4d523",
   "metadata": {},
   "outputs": [],
   "source": [
    "precision_test_7 = precision_score(np.array(list(test_df.targets)),predd )\n",
    "\n",
    "recall_test_7 = recall_score(np.array(list(test_df.targets)), predd)\n",
    "f1_test_7=f1_score(np.array(list(test_df.targets)), predd, average='binary')"
   ]
  },
  {
   "cell_type": "code",
   "execution_count": 49,
   "id": "19a2cedf",
   "metadata": {},
   "outputs": [
    {
     "name": "stdout",
     "output_type": "stream",
     "text": [
      "precision 1.0 recall 0.05214723926380368 f1 score 0.09912536443148688\n"
     ]
    }
   ],
   "source": [
    "print(\"precision\",precision_test_7,\"recall\",recall_test_7,\"f1 score\",f1_test_7)"
   ]
  },
  {
   "cell_type": "code",
   "execution_count": null,
   "id": "1575a6b8",
   "metadata": {},
   "outputs": [],
   "source": []
  },
  {
   "cell_type": "code",
   "execution_count": null,
   "id": "efb5f247",
   "metadata": {},
   "outputs": [],
   "source": []
  },
  {
   "cell_type": "code",
   "execution_count": null,
   "id": "250958d3",
   "metadata": {},
   "outputs": [],
   "source": []
  },
  {
   "cell_type": "code",
   "execution_count": null,
   "id": "75590386",
   "metadata": {},
   "outputs": [],
   "source": []
  },
  {
   "cell_type": "code",
   "execution_count": null,
   "id": "55bf88f7",
   "metadata": {},
   "outputs": [],
   "source": []
  },
  {
   "cell_type": "code",
   "execution_count": null,
   "id": "7b0f7298",
   "metadata": {},
   "outputs": [],
   "source": []
  },
  {
   "cell_type": "code",
   "execution_count": null,
   "id": "3e395a3a",
   "metadata": {},
   "outputs": [],
   "source": []
  }
 ],
 "metadata": {
  "kernelspec": {
   "display_name": "Python 3 (ipykernel)",
   "language": "python",
   "name": "python3"
  },
  "language_info": {
   "codemirror_mode": {
    "name": "ipython",
    "version": 3
   },
   "file_extension": ".py",
   "mimetype": "text/x-python",
   "name": "python",
   "nbconvert_exporter": "python",
   "pygments_lexer": "ipython3",
   "version": "3.8.18"
  }
 },
 "nbformat": 4,
 "nbformat_minor": 5
}
